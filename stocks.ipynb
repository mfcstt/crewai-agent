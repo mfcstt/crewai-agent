{
 "cells": [
  {
   "cell_type": "markdown",
   "metadata": {},
   "source": []
  },
  {
   "cell_type": "code",
   "execution_count": 16,
   "metadata": {},
   "outputs": [],
   "source": [
    "# %pip install yfinance==0.2.41\n",
    "# %pip install crewai==0.28.8\n",
    "# %pip install 'crewai[tools]'\n",
    "# %pip install langchain==0.1.20\n",
    "# %pip install langchain-openai==0.1.7\n",
    "# %pip install langchain-community==0.0.38\n",
    "# %pip install duckduckgo-search==5.3.0"
   ]
  },
  {
   "cell_type": "code",
   "execution_count": 17,
   "metadata": {},
   "outputs": [],
   "source": [
    "import json \n",
    "import os\n",
    "from datetime import datetime\n",
    "\n",
    "import yfinance as yf\n",
    "\n",
    "from crewai import Agent, Task, Crew, Process\n",
    "\n",
    "from langchain.tools import Tool\n",
    "from langchain_openai import ChatOpenAI\n",
    "from langchain_community.tools import DuckDuckGoSearchResults"
   ]
  },
  {
   "cell_type": "code",
   "execution_count": 23,
   "metadata": {},
   "outputs": [],
   "source": [
    "def fetch_stock_data(ticket):\n",
    "    stock = yf.download(ticket, start=\"2024-08-01\", end=\"2024-08-20\")\n",
    "    return stock\n",
    "\n",
    "yahoo_finance_tool = Tool(\n",
    "    name = \"Yahoo Finance Tool\",\n",
    "    description = \"Fetch stock data for {ticket} from Yahoo Finance API in 2024 August 20.\",\n",
    "    func= lambda ticket: fetch_stock_data(ticket)\n",
    ")"
   ]
  },
  {
   "cell_type": "code",
   "execution_count": 24,
   "metadata": {},
   "outputs": [
    {
     "name": "stderr",
     "output_type": "stream",
     "text": [
      "[*********************100%%**********************]  1 of 1 completed\n"
     ]
    }
   ],
   "source": [
    "response = yahoo_finance_tool.run(\"AAPL\")"
   ]
  },
  {
   "cell_type": "code",
   "execution_count": 25,
   "metadata": {},
   "outputs": [
    {
     "name": "stdout",
     "output_type": "stream",
     "text": [
      "                  Open        High  ...   Adj Close     Volume\n",
      "Date                                ...                       \n",
      "2024-08-01  224.369995  224.479996  ...  218.107544   62501000\n",
      "2024-08-02  219.149994  225.600006  ...  219.605804  105568600\n",
      "2024-08-05  199.089996  213.500000  ...  209.028061  119548600\n",
      "2024-08-06  205.300003  209.990005  ...  206.990402   69660500\n",
      "2024-08-07  206.899994  213.639999  ...  209.577423   63516400\n",
      "2024-08-08  213.110001  214.199997  ...  213.063385   47161100\n",
      "2024-08-09  212.100006  216.779999  ...  215.990005   42201600\n",
      "2024-08-12  216.070007  219.509995  ...  217.529999   38028100\n",
      "2024-08-13  219.009995  221.889999  ...  221.270004   44155300\n",
      "2024-08-14  220.570007  223.029999  ...  221.720001   41960600\n",
      "2024-08-15  224.600006  225.350006  ...  224.720001   46414000\n",
      "2024-08-16  223.919998  226.830002  ...  226.050003   44340200\n",
      "2024-08-19  225.720001  225.990005  ...  225.889999   40639000\n",
      "\n",
      "[13 rows x 6 columns]\n"
     ]
    }
   ],
   "source": [
    "print(response)"
   ]
  }
 ],
 "metadata": {
  "kernelspec": {
   "display_name": "Python 3",
   "language": "python",
   "name": "python3"
  },
  "language_info": {
   "codemirror_mode": {
    "name": "ipython",
    "version": 3
   },
   "file_extension": ".py",
   "mimetype": "text/x-python",
   "name": "python",
   "nbconvert_exporter": "python",
   "pygments_lexer": "ipython3",
   "version": "3.11.9"
  }
 },
 "nbformat": 4,
 "nbformat_minor": 2
}
